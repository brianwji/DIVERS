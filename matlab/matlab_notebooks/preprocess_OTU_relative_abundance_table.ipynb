{
 "cells": [
  {
   "cell_type": "markdown",
   "metadata": {},
   "source": [
    "# Convert raw OTU abundance table to absolute abundances and format for DIVERS variance and covariance decomposition"
   ]
  },
  {
   "cell_type": "markdown",
   "metadata": {},
   "source": [
    "## 1) Read in sample metadata"
   ]
  },
  {
   "cell_type": "code",
   "execution_count": 13,
   "metadata": {
    "collapsed": false
   },
   "outputs": [
    {
     "name": "stdout",
     "output_type": "stream",
     "text": [
      "Warning: Variable names were modified to make them valid MATLAB identifiers.\n"
     ]
    }
   ],
   "source": [
    "%Directory containing sample metadata\n",
    "meta_file_dir = ['/Path/To/.../metadata/'];\n",
    "MD = readtable([meta_file_dir 'Gut_Metadata.xlsx']);\n",
    "\n",
    "%Rows 1-88 are samples we are interested in (others are control wells)\n",
    "md_weights = table2array(MD(1:88,10)); %Sample weights in mg\n",
    "md_names = table2array(MD(1:88,16)); %Sample names\n",
    "md_days = table2array(MD(1:88,5)); %Sample time points"
   ]
  },
  {
   "cell_type": "markdown",
   "metadata": {},
   "source": [
    "## 2) Use metadata to establish desired sample order in OTU relative abundance table"
   ]
  },
  {
   "cell_type": "code",
   "execution_count": 14,
   "metadata": {
    "collapsed": false
   },
   "outputs": [],
   "source": [
    "%Desired order of sample names\n",
    "target_names = cat(1,md_names(1:60),md_names(67:88));\n",
    "target_names = cat(1,target_names,md_names(61:66));\n",
    "\n",
    "%Desired order of sample weights\n",
    "target_ws = cat(1,md_weights(1:60),md_weights(67:88));\n",
    "target_ws = cat(1,target_ws,md_weights(61:66));\n",
    "target_weights = [];\n",
    "for i = 1:length(target_ws)\n",
    "    target_weights(i) = str2double(target_ws(i));\n",
    "end\n",
    "\n",
    "%Desired order of sample time points\n",
    "target_days = cat(1,md_days(1:60),md_days(67:88));\n",
    "target_days = cat(1,target_days,md_days(61:66));\n",
    "\n",
    "%These will be final sample indices - OTU table will be arranged like this\n",
    "time_inds = 1:60;\n",
    "space_inds = [40 41 61:72];\n",
    "tech_inds = [41 42 73:82];\n"
   ]
  },
  {
   "cell_type": "markdown",
   "metadata": {},
   "source": [
    "## 3) Read in OTU relative abundance table"
   ]
  },
  {
   "cell_type": "code",
   "execution_count": 15,
   "metadata": {
    "collapsed": false
   },
   "outputs": [
    {
     "name": "stdout",
     "output_type": "stream",
     "text": [
      "Warning: Variable names were modified to make them valid MATLAB identifiers.\n"
     ]
    }
   ],
   "source": [
    "%Directory containing OTU relative abundance table\n",
    "otu_file_dir = ['/Users/brianji/Documents/dv_lab/Manuscripts/noise/revisions/round2/reviewer_code/v3/raw_abundances/'];\n",
    "T = readtable([otu_file_dir 'gut_table.txt'],'Delimiter','\\t');\n",
    "\n",
    "samples = T.Properties.VariableNames; samples = samples(2:end-1); %Sample names in OTU table\n",
    "otu_ids = table2array(T(:,1)); %Identifiers of OTUs\n",
    "tax = table2array(T(:,end)); %Full taxonomy of OTUs\n",
    "data = table2array(T(:,2:end-1)); %Relative abundances of OTUs\n",
    "[M,N] = size(data);"
   ]
  },
  {
   "cell_type": "markdown",
   "metadata": {},
   "source": [
    "## 4) Rearrange OTU table into desired order as specified in step (2)"
   ]
  },
  {
   "cell_type": "code",
   "execution_count": 16,
   "metadata": {
    "collapsed": true
   },
   "outputs": [],
   "source": [
    "% Find mapping between metadata and OTU samples\n",
    "target_inds = [];\n",
    "for i = 1:length(target_names)\n",
    "   target_inds = [target_inds; find(strcmp(target_names(i),samples))]; \n",
    "end\n",
    "\n",
    "%Rearrange OTU table in preferred order\n",
    "data = data(:,target_inds);\n",
    "\n",
    "%Indices of technical replicate samples in OTU table\n",
    "X_inds = time_inds(2:3:60);\n",
    "Y_inds = time_inds(3:3:60);\n",
    "\n",
    "%Indices of second spatial replicate sample in OTU table\n",
    "Z_inds = time_inds(1:3:60);\n"
   ]
  },
  {
   "cell_type": "markdown",
   "metadata": {},
   "source": [
    "## 5) Calculate total bacterial densities in each sample from spike-in abundances"
   ]
  },
  {
   "cell_type": "code",
   "execution_count": 17,
   "metadata": {
    "collapsed": true
   },
   "outputs": [],
   "source": [
    "%Relative abundance of spike-in strain in each sample (OTU 1)\n",
    "spike_otu_abunds = data(1,:) ./ sum(data,1);\n",
    "\n",
    "%Calculate total bacterial density per sample (up to scaling constant)\n",
    "abs_abunds = (1-spike_otu_abunds) ./ (spike_otu_abunds .* target_weights);\n",
    "\n",
    "%Renormalize total bacterial densities to mean of 1\n",
    "abs_abunds_norm = abs_abunds ./ mean(abs_abunds);\n",
    "abund_mat = repmat(abs_abunds_norm,M,1);\n",
    "\n",
    "%% Rename stuff before saving\n",
    "samples = target_names;\n",
    "weights = target_weights;\n",
    "days = target_days;"
   ]
  },
  {
   "cell_type": "markdown",
   "metadata": {},
   "source": [
    "## 6) Convert relative OTU abundances to absolute OTU abundances"
   ]
  },
  {
   "cell_type": "code",
   "execution_count": 18,
   "metadata": {
    "collapsed": false
   },
   "outputs": [],
   "source": [
    "[M,N] = size(data);\n",
    "data_rel = data(2:end,:) ./ repmat(sum(data(2:end,:),1),M-1,1); %Relative abundances ignoring spike-in OTU\n",
    "data_abs = data_rel .* abund_mat(2:end,:) * 1; %Average absolute abundance (AU) across samples is normalized to 1\n",
    "\n",
    "%%Update taxonomic info of OTUs (ignore the spike-in OTU now)\n",
    "tax = tax(2:end); \n",
    "otu_ids = otu_ids(2:end);\n",
    "\n",
    "% Split data into technical replicates (X and Y) and second spatial\n",
    "% replicate (Z)\n",
    "data_X = data_abs(:,X_inds);\n",
    "data_Y = data_abs(:,Y_inds);\n",
    "data_Z = data_abs(:,Z_inds);"
   ]
  },
  {
   "cell_type": "markdown",
   "metadata": {},
   "source": [
    "## 7) Save to output that is used by the DIVERS variance and covariance decomposition model"
   ]
  },
  {
   "cell_type": "code",
   "execution_count": 19,
   "metadata": {
    "collapsed": false,
    "scrolled": true
   },
   "outputs": [],
   "source": [
    "%Directory to save data into\n",
    "save_dir = ['/Path/To/.../absolute_abundances/'];\n",
    "\n",
    "%% Create absolute abundance tables\n",
    "\n",
    "%X (Samples representing one of the two technical replicates from each time point)\n",
    "table_X = [table(otu_ids) array2table(data_X) table(tax)];\n",
    "table_X.Properties.VariableNames = {'OTU_ID','T1','T2','T3','T4','T5','T6','T7','T8','T9','T10','T11','T12','T13','T14','T15','T16','T17','T18','T19','T20','Taxonomy'};\n",
    "\n",
    "%Y (Samples representing the second of two technical replicates from each time point)\n",
    "table_Y = [table(otu_ids) array2table(data_Y) table(tax)];\n",
    "table_Y.Properties.VariableNames = {'OTU_ID','T1','T2','T3','T4','T5','T6','T7','T8','T9','T10','T11','T12','T13','T14','T15','T16','T17','T18','T19','T20','Taxonomy'};\n",
    "\n",
    "%Z (Samples representing the second spatial replicate from each time point)\n",
    "table_Z = [table(otu_ids) array2table(data_Z) table(tax)];\n",
    "table_Z.Properties.VariableNames = {'OTU_ID','T1','T2','T3','T4','T5','T6','T7','T8','T9','T10','T11','T12','T13','T14','T15','T16','T17','T18','T19','T20','Taxonomy'};\n",
    "\n",
    "%% Write output\n",
    "writetable(table_X,[save_dir 'data_X.txt'],'Delimiter','\\t');\n",
    "writetable(table_Y,[save_dir 'data_Y.txt'],'Delimiter','\\t');\n",
    "writetable(table_Z,[save_dir 'data_Z.txt'],'Delimiter','\\t');\n",
    "\n",
    "\n",
    "\n",
    "\n"
   ]
  }
 ],
 "metadata": {
  "kernelspec": {
   "display_name": "Matlab",
   "language": "matlab",
   "name": "matlab"
  },
  "language_info": {
   "codemirror_mode": "octave",
   "file_extension": ".m",
   "help_links": [
    {
     "text": "MetaKernel Magics",
     "url": "https://github.com/calysto/metakernel/blob/master/metakernel/magics/README.md"
    }
   ],
   "mimetype": "text/x-octave",
   "name": "matlab",
   "version": "0.16.1"
  }
 },
 "nbformat": 4,
 "nbformat_minor": 2
}
