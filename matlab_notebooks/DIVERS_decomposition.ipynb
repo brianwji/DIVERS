{
 "cells": [
  {
   "cell_type": "markdown",
   "metadata": {},
   "source": [
    "# DIVERS Variance and Covariance Decomposition"
   ]
  },
  {
   "cell_type": "markdown",
   "metadata": {},
   "source": [
    "## 1) Read in absolute abundance tables \n",
    "### (data_X and data_Y are technical replicates, data_Z is the second spatial replicate)\n"
   ]
  },
  {
   "cell_type": "code",
   "execution_count": 15,
   "metadata": {
    "collapsed": false
   },
   "outputs": [],
   "source": [
    "%Directory containing absolute abundance tables\n",
    "file_dir = ['/Users/brianji/Documents/dv_lab/Manuscripts/noise/revisions/round2/reviewer_code/v3/absolute_abundances/'];\n",
    "\n",
    "%data_X\n",
    "T_X = readtable([file_dir 'data_X.txt'],'Delimiter','\\t');\n",
    "otu_ids = table2array(T_X(:,1));\n",
    "tax = table2array(T_X(:,end));\n",
    "data_X = table2array(T_X(:,2:end-1));\n",
    "[Mx,Nx] = size(data_X);\n",
    "\n",
    "%data_Y\n",
    "T_Y = readtable([file_dir 'data_Y.txt'],'Delimiter','\\t');\n",
    "data_Y = table2array(T_Y(:,2:end-1));\n",
    "[My,Ny] = size(data_Y);\n",
    "\n",
    "%data_Z\n",
    "T_Z = readtable([file_dir 'data_Z.txt'],'Delimiter','\\t');\n",
    "data_Z = table2array(T_Z(:,2:end-1));\n",
    "[Mz,Nz] = size(data_Z);\n"
   ]
  },
  {
   "cell_type": "markdown",
   "metadata": {},
   "source": [
    "## 2) Calculate marginal (total) means and variances of each OTU "
   ]
  },
  {
   "cell_type": "code",
   "execution_count": 16,
   "metadata": {
    "collapsed": true
   },
   "outputs": [],
   "source": [
    "marg_means = [];\n",
    "marg_vars = [];\n",
    "\n",
    "% Perform 500 different re-sampling iterations\n",
    "\n",
    "for i = 1:5e2\n",
    "    \n",
    "    data_X_perm = [];\n",
    "    \n",
    "    %Randomly draw a sample from data_X, data_Y or data_Z\n",
    "    for j = 1:Nx\n",
    "        flip = rand;\n",
    "        if flip > (2/3)\n",
    "            data_X_perm(:,j) = data_X(:,j);\n",
    "        elseif flip > (1/3)\n",
    "            data_X_perm(:,j) = data_Y(:,j);\n",
    "        else\n",
    "            data_X_perm(:,j) = data_Z(:,j);\n",
    "        end\n",
    "    end\n",
    "    \n",
    "    %Estimate mean and variance from this iteration\n",
    "    marg_means(:,i) = mean(data_X_perm,2);\n",
    "    marg_vars(:,i) = var(data_X_perm')';\n",
    "end\n",
    "\n",
    "%Average over all re-sampling iterations\n",
    "means = mean(marg_means,2);\n",
    "vars_total = mean(marg_vars,2);"
   ]
  },
  {
   "cell_type": "markdown",
   "metadata": {},
   "source": [
    "## 3) Variance decomposition of OTU abundances (should take several seconds)\n"
   ]
  },
  {
   "cell_type": "code",
   "execution_count": 17,
   "metadata": {
    "collapsed": false
   },
   "outputs": [
    {
     "name": "stdout",
     "output_type": "stream",
     "text": [
      "Performing variance decomposition...\n",
      "Variance decomposition complete!\n"
     ]
    }
   ],
   "source": [
    "disp(['Performing variance decomposition...'])\n",
    "\n",
    "\n",
    "covs_XZ = [];\n",
    "covs_XmZY = [];\n",
    "vars_XmY = [];\n",
    "\n",
    "%Perform 500 re-sampling iterations\n",
    "for i = 1:5e2\n",
    "\n",
    "    data_X_perm = [];\n",
    "    data_Y_perm = [];\n",
    "    \n",
    "    %Randomly permute X and Y, Z stays the same\n",
    "    for j = 1:Nx\n",
    "        flip = rand;\n",
    "        if flip > .5\n",
    "            data_X_perm(:,j) = data_X(:,j);\n",
    "            data_Y_perm(:,j) = data_Y(:,j);\n",
    "        else\n",
    "            data_X_perm(:,j) = data_Y(:,j);\n",
    "            data_Y_perm(:,j) = data_X(:,j);\n",
    "        end\n",
    "    end\n",
    "    \n",
    "    %Temporal variance\n",
    "    cov_XZ = [];\n",
    "    for j = 1:Mx\n",
    "        covmat_xz = cov(data_X_perm(j,:),data_Z(j,:));\n",
    "        cov_xz = covmat_xz(1,2);\n",
    "        cov_XZ(j) = cov_xz;\n",
    "    end\n",
    "    covs_XZ(:,i) = cov_XZ';\n",
    "    \n",
    "    %Spatial sampling variance\n",
    "    cov_XmZY = [];\n",
    "    for j = 1:Mx\n",
    "        covmat_xmzy = cov(data_X_perm(j,:)-data_Z(j,:),data_Y_perm(j,:));\n",
    "        cov_xmzy = covmat_xmzy(1,2);\n",
    "        cov_XmZY(j) = cov_xmzy;\n",
    "    end\n",
    "    covs_XmZY(:,i) = cov_XmZY';\n",
    "    \n",
    "    %Technical\n",
    "    var_XmY = .5 * var((data_X_perm - data_Y_perm)')';\n",
    "    vars_XmY(:,i) = var_XmY;\n",
    "    \n",
    "end\n",
    "\n",
    "%% Average over re-sampling iterations\n",
    "\n",
    "%Temporal variance\n",
    "vars_T = mean(covs_XZ,2);\n",
    "vars_T = max(vars_T,0); \n",
    "\n",
    "%Spatial sampling variance\n",
    "vars_S = mean(covs_XmZY,2);\n",
    "vars_S = max(vars_S,0); \n",
    "\n",
    "%Technical variance\n",
    "vars_N = mean(vars_XmY,2);\n",
    "\n",
    "%Fraction of each component to total variance\n",
    "vf_N = vars_N ./ (vars_N + vars_S + vars_T);\n",
    "vf_S = vars_S ./ (vars_N + vars_S + vars_T);\n",
    "vf_T = vars_T ./ (vars_N + vars_S + vars_T);\n",
    "\n",
    "\n",
    "disp(['Variance decomposition complete!'])"
   ]
  },
  {
   "cell_type": "markdown",
   "metadata": {},
   "source": [
    "## 4) Covariance decomposition of OTU abundances\n"
   ]
  },
  {
   "cell_type": "markdown",
   "metadata": {},
   "source": [
    "### a) Calculate total covariances between all OTU pairs"
   ]
  },
  {
   "cell_type": "code",
   "execution_count": 18,
   "metadata": {
    "collapsed": false
   },
   "outputs": [
    {
     "name": "stdout",
     "output_type": "stream",
     "text": [
      "Calculating total covariances...\n",
      "Total covariances calculated!\n"
     ]
    }
   ],
   "source": [
    "disp(['Calculating total covariances...'])\n",
    "\n",
    "covs_total = [];\n",
    "\n",
    "%Perform 500 re-sampling iterations\n",
    "\n",
    "for i = 1:5e2\n",
    "\n",
    "    data_X_perm = [];\n",
    "\n",
    "    %Randomly choose a sample from of data_X, data_Y, data_Z\n",
    "    for j = 1:Nx\n",
    "        flip = rand;\n",
    "        if flip > (2/3)\n",
    "            data_X_perm(:,j) = data_X(:,j);\n",
    "        elseif flip > (1/3)\n",
    "            data_X_perm(:,j) = data_Y(:,j);\n",
    "        else\n",
    "            data_X_perm(:,j) = data_Z(:,j);\n",
    "        end\n",
    "    end\n",
    "    \n",
    "    %Mean center the data \n",
    "    data_X_mc = data_X_perm - repmat(mean(data_X_perm,2),1,Nx);\n",
    "    \n",
    "    %Calculate covariance matrix\n",
    "    covmat_X_perm = 1/(Nx-1) * data_X_mc * data_X_mc';\n",
    "    \n",
    "    %Store covariance matrix for this iteration\n",
    "    covs_total(:,:,i) = covmat_X_perm;  \n",
    "    \n",
    "end\n",
    "covmat_total = mean(covs_total,3);\n",
    "clear covs_total;\n",
    "\n",
    "disp(['Total covariances calculated!'])\n"
   ]
  },
  {
   "cell_type": "markdown",
   "metadata": {},
   "source": [
    "### b) Calculate temporal covariances between all OTU pairs (should take several seconds)"
   ]
  },
  {
   "cell_type": "code",
   "execution_count": 19,
   "metadata": {
    "collapsed": false
   },
   "outputs": [
    {
     "name": "stdout",
     "output_type": "stream",
     "text": [
      "Calculating temporal covariances...\n",
      "Temporal covariances calculated!\n"
     ]
    }
   ],
   "source": [
    "disp(['Calculating temporal covariances...'])\n",
    "\n",
    "crosscovs_T = [];\n",
    "\n",
    "%Perform 500 re-sampling iterations\n",
    "for i = 1:5e2\n",
    "\n",
    "    data_X_perm = [];\n",
    "    data_Y_perm = [];\n",
    "    data_Z_perm = data_Z;\n",
    "    \n",
    "    %One realization of the data\n",
    "    for j = 1:Nx\n",
    "        flip = rand;\n",
    "        if flip > .5\n",
    "            data_X_perm(:,j) = data_X(:,j);\n",
    "            data_Y_perm(:,j) = data_Y(:,j);\n",
    "        else\n",
    "            data_X_perm(:,j) = data_Y(:,j);\n",
    "            data_Y_perm(:,j) = data_X(:,j);\n",
    "        end\n",
    "    end\n",
    "    \n",
    "    %Mean center matrices;\n",
    "    data_X_mc = data_X_perm - repmat(mean(data_X_perm,2),1,Nx);\n",
    "    data_Y_mc = data_Y_perm - repmat(mean(data_Y_perm,2),1,Ny);\n",
    "    data_Z_mc = data_Z_perm - repmat(mean(data_Z_perm,2),1,Nz);\n",
    "    \n",
    "    %Calculate all pairwise covariances for this realization (2\n",
    "    %permutations)\n",
    "    covmat_XZ = 1/(Nx-1) * data_X_mc*data_Z_mc'; %(X_i,Z_j)\n",
    "    covmat_ZX = 1/(Nx-1) * data_Z_mc*data_X_mc'; %(Z_i,X_j)\n",
    "    covmat = 1/2 * (covmat_XZ + covmat_ZX);\n",
    "    \n",
    "    %Store covmat for each realization\n",
    "    crosscovs_T(:,:,i) = covmat;    \n",
    "    \n",
    "end\n",
    "\n",
    "%Average over all iterations\n",
    "covmat_T = mean(crosscovs_T,3);\n",
    "clear crosscovs_T;\n",
    "\n",
    "disp(['Temporal covariances calculated!'])\n"
   ]
  },
  {
   "cell_type": "markdown",
   "metadata": {},
   "source": [
    "### c) Calculate spatial sampling covariances between all OTU pairs (should take several seconds)"
   ]
  },
  {
   "cell_type": "code",
   "execution_count": 20,
   "metadata": {
    "collapsed": false
   },
   "outputs": [
    {
     "name": "stdout",
     "output_type": "stream",
     "text": [
      "Calculating spatial covariances...\n",
      "Spatial covariances calculated!\n"
     ]
    }
   ],
   "source": [
    "disp(['Calculating spatial covariances...'])\n",
    "\n",
    "\n",
    "crosscovs_S = [];\n",
    "\n",
    "%Peform 500 re-sampling iterations\n",
    "for i = 1:5e2\n",
    "\n",
    "    data_X_perm = [];\n",
    "    data_Y_perm = [];\n",
    "    data_Z_perm = data_Z;\n",
    "    \n",
    "    %One realization of the data\n",
    "    for j = 1:Nx\n",
    "        flip = rand;\n",
    "        if flip > .5\n",
    "            data_X_perm(:,j) = data_X(:,j);\n",
    "            data_Y_perm(:,j) = data_Y(:,j);\n",
    "        else\n",
    "            data_X_perm(:,j) = data_Y(:,j);\n",
    "            data_Y_perm(:,j) = data_X(:,j);\n",
    "        end\n",
    "    end\n",
    "    \n",
    "    data_XmZ = data_X_perm - data_Z_perm;\n",
    "    \n",
    "    %Mean center matrices;\n",
    "    data_XmZ_mc = data_XmZ - repmat(mean(data_XmZ,2),1,Nx);\n",
    "    data_Y_mc = data_Y_perm - repmat(mean(data_Y_perm,2),1,Ny);\n",
    "    \n",
    "    %Calculate all pairwise covariances for this realization (2\n",
    "    %permutations)\n",
    "    covmat_XZY = 1/(Nx-1) * data_XmZ_mc*data_Y_mc';\n",
    "    covmat_YXZ = 1/(Nx-1) * data_Y_mc*data_XmZ_mc';\n",
    "    covmat = 1/2 * (covmat_XZY + covmat_YXZ);\n",
    "    \n",
    "    %Store covmat for each realization\n",
    "    crosscovs_S(:,:,i) = covmat;  \n",
    "    \n",
    "end\n",
    "\n",
    "%Average over all iterations\n",
    "covmat_S = mean(crosscovs_S,3);\n",
    "clear crosscovs_S;\n",
    "\n",
    "\n",
    "disp(['Spatial covariances calculated!'])"
   ]
  },
  {
   "cell_type": "markdown",
   "metadata": {},
   "source": [
    "### d) Calculate technical covariances between all OTU pairs (should take several seconds)"
   ]
  },
  {
   "cell_type": "code",
   "execution_count": 21,
   "metadata": {
    "collapsed": false
   },
   "outputs": [
    {
     "name": "stdout",
     "output_type": "stream",
     "text": [
      "Calculating technical covariances...\n",
      "Technical covariances calculated!\n"
     ]
    }
   ],
   "source": [
    "disp(['Calculating technical covariances...'])\n",
    "\n",
    "crosscovs_N = [];\n",
    "\n",
    "%Peform 500 re-sampling iterations\n",
    "for i = 1:5e2\n",
    "\n",
    "    data_X_perm = [];\n",
    "    data_Y_perm = [];\n",
    "    data_Z_perm = data_Z;\n",
    "    \n",
    "    %One realization of the data\n",
    "    for j = 1:Nx\n",
    "    flip = rand;\n",
    "        if flip > .5\n",
    "            data_X_perm(:,j) = data_X(:,j);\n",
    "            data_Y_perm(:,j) = data_Y(:,j);\n",
    "        else\n",
    "            data_X_perm(:,j) = data_Y(:,j);\n",
    "            data_Y_perm(:,j) = data_X(:,j);\n",
    "        end\n",
    "    end\n",
    "   \n",
    "    data_XmY = data_X_perm - data_Y_perm;\n",
    "    \n",
    "    %Mean center matrices;\n",
    "    data_XmY_mc = data_XmY - repmat(mean(data_XmY,2),1,Nx);\n",
    "    \n",
    "    %Calculate all pairwise covariances for this realization (1\n",
    "    %permutation)\n",
    "    covmat = 1/(Nx-1) * data_XmY_mc*data_XmY_mc';\n",
    "    \n",
    "    %Store covmat for each realization\n",
    "    crosscovs_N(:,:,i) = .5 * covmat;   \n",
    "   \n",
    "end\n",
    "\n",
    "%Average over all iterations\n",
    "covmat_N = mean(crosscovs_N,3);  \n",
    "clear crosscovs_N;\n",
    "\n",
    "disp(['Technical covariances calculated!'])\n"
   ]
  },
  {
   "cell_type": "markdown",
   "metadata": {},
   "source": [
    "## 5) Rescale covariances to obtain correlations"
   ]
  },
  {
   "cell_type": "code",
   "execution_count": 22,
   "metadata": {
    "collapsed": true
   },
   "outputs": [],
   "source": [
    "L = length(vars_total);\n",
    "\n",
    "%Calculate product of marginal standard deviations for each pair of OTUs\n",
    "sigxsigy = [];\n",
    "for i = 1:L\n",
    "   for j = 1:i\n",
    "       if vars_total(i) > 0 && vars_total(j) > 0\n",
    "            sigxsigy(i,j) = sqrt(vars_total(i))*sqrt(vars_total(j));\n",
    "            sigxsigy(j,i) = sqrt(vars_total(i))*sqrt(vars_total(j));\n",
    "       else\n",
    "            sigxsigy(i,j) = 0;\n",
    "            sigxsigy(j,i) = 0;\n",
    "       end\n",
    "   end\n",
    "end\n",
    "\n",
    "cormat_total = covmat_total ./ sigxsigy;\n",
    "cormat_T = covmat_T ./ sigxsigy;\n",
    "cormat_S = covmat_S ./ sigxsigy;\n",
    "cormat_N = covmat_N ./ sigxsigy;\n",
    "\n",
    "\n",
    "    \n",
    "clear covs_XZ covs_XmZY vars_XmY sigxsigy data_X_perm data_Y_perm data_Z_perm data_X_mc data_Y_mc data_Z_mc data_XmY_mc data_XmZ_mc data_XmY data_XmZ\n",
    "\n"
   ]
  },
  {
   "cell_type": "markdown",
   "metadata": {},
   "source": [
    "## 6) Saving"
   ]
  },
  {
   "cell_type": "code",
   "execution_count": 12,
   "metadata": {
    "collapsed": true
   },
   "outputs": [],
   "source": [
    "%Save DIVERS variance and covariance decomposition results into a MAT file\n",
    "save_dir = ['/Users/brianji/Documents/dv_lab/Manuscripts/noise/revisions/round2/reviewer_code/v3/matData/'];\n",
    "save([save_dir 'DIVERS_gut.mat']);\n"
   ]
  }
 ],
 "metadata": {
  "kernelspec": {
   "display_name": "Matlab",
   "language": "matlab",
   "name": "matlab"
  },
  "language_info": {
   "codemirror_mode": "octave",
   "file_extension": ".m",
   "help_links": [
    {
     "text": "MetaKernel Magics",
     "url": "https://github.com/calysto/metakernel/blob/master/metakernel/magics/README.md"
    }
   ],
   "mimetype": "text/x-octave",
   "name": "matlab",
   "version": "0.16.1"
  }
 },
 "nbformat": 4,
 "nbformat_minor": 2
}
